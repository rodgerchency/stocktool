{
 "cells": [
  {
   "cell_type": "code",
   "execution_count": 9,
   "metadata": {},
   "outputs": [],
   "source": [
    "import twstock;\n",
    "\n",
    "stock =twstock.Stock('2448')\n",
    "\n"
   ]
  },
  {
   "cell_type": "code",
   "execution_count": 12,
   "metadata": {},
   "outputs": [
    {
     "name": "stdout",
     "output_type": "stream",
     "text": [
      "['__class__', '__delattr__', '__dict__', '__dir__', '__doc__', '__eq__', '__format__', '__ge__', '__getattribute__', '__gt__', '__hash__', '__init__', '__init_subclass__', '__le__', '__lt__', '__module__', '__ne__', '__new__', '__reduce__', '__reduce_ex__', '__repr__', '__setattr__', '__sizeof__', '__str__', '__subclasshook__', '__weakref__', '_month_year_iter', 'capacity', 'change', 'close', 'continuous', 'data', 'date', 'fetch', 'fetch_31', 'fetch_from', 'fetcher', 'high', 'low', 'ma_bias_ratio', 'ma_bias_ratio_pivot', 'moving_average', 'open', 'price', 'raw_data', 'sid', 'transaction', 'turnover']\n",
      "***price***\n",
      "[28.8, 28.9, 30.1, 30.05, 32.95, 31.75, 32.95, 32.3, 31.5, 32.0, 33.8, 33.55, 32.3, 32.9, 32.85, 32.8, 32.15, 33.1, 32.35, 32.9, 33.4, 34.2, 33.7, 33.45, 33.0, 31.5, 32.9, 32.8, 31.9, 31.6, 32.25]\n"
     ]
    }
   ],
   "source": [
    "print(dir(stock))\n",
    "print('***price***');\n",
    "print(stock.price);\n"
   ]
  }
 ],
 "metadata": {
  "kernelspec": {
   "display_name": "Python 3",
   "language": "python",
   "name": "python3"
  },
  "language_info": {
   "codemirror_mode": {
    "name": "ipython",
    "version": 3
   },
   "file_extension": ".py",
   "mimetype": "text/x-python",
   "name": "python",
   "nbconvert_exporter": "python",
   "pygments_lexer": "ipython3",
   "version": "3.7.4"
  }
 },
 "nbformat": 4,
 "nbformat_minor": 2
}
